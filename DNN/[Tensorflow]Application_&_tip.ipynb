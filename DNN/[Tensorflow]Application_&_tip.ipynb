{
  "nbformat": 4,
  "nbformat_minor": 0,
  "metadata": {
    "colab": {
      "name": "[Tensorflow]Application & tip.ipynb",
      "provenance": []
    },
    "kernelspec": {
      "name": "python3",
      "display_name": "Python 3"
    },
    "language_info": {
      "name": "python"
    }
  },
  "cells": [
    {
      "cell_type": "markdown",
      "metadata": {
        "id": "L5z3jzwdi_BR"
      },
      "source": [
        "##Application & Tips\n",
        "Learning rate\n",
        "- Gradient\n",
        "- Good and Bad Learning rate\n",
        "- Annealing the learning rate (Decay)\n",
        "\n",
        "Data preprocessing\n",
        "- Standardization(표준화기법) / Normalization(정규화기법)\n",
        "- Noisy Data\n",
        "\n",
        "Overfitting\n",
        "- Regularization\n",
        "- L2 Norm\n",
        "\n",
        "##overfitting Solution\n",
        "- Feature Normalization\n",
        "- Regularization\n",
        "- More Data (Data Augmentation) : 데이터 증가\n",
        "1. Color Jilttering : (이미지의 경우) 다양한 색상 추가\n",
        "2. Horizontal Flips : 이미지 뒤집기\n",
        "3. Random Crops/Scales : 적당한 크기로 자르든가 이미지 사이즈 크게하기\n",
        "- **Dropout**\n",
        "- Batch Normalization\n",
        "\n"
      ]
    },
    {
      "cell_type": "markdown",
      "metadata": {
        "id": "MIcudZeNz141"
      },
      "source": [
        "기본 Library 선언 및 Tensorflow 버전확인"
      ]
    },
    {
      "cell_type": "code",
      "metadata": {
        "colab": {
          "base_uri": "https://localhost:8080/"
        },
        "id": "ODowi8_Ys7Gw",
        "outputId": "c54cb4b3-8c48-400b-cabf-01b904b03aa8"
      },
      "source": [
        "import numpy as np\n",
        "import matplotlib.pyplot as plt\n",
        "%matplotlib inline\n",
        "import tensorflow as tf\n",
        "\n",
        "tf.random.set_seed(777) # for reproducibility\n",
        "\n",
        "print(tf.__version__)"
      ],
      "execution_count": null,
      "outputs": [
        {
          "output_type": "stream",
          "text": [
            "2.5.0\n"
          ],
          "name": "stdout"
        }
      ]
    },
    {
      "cell_type": "markdown",
      "metadata": {
        "id": "QIL0dooI0VX8"
      },
      "source": [
        "정규화를 위한 함수 (최대, 최소값이 1과 0이 되도록 Scaling한다.)"
      ]
    },
    {
      "cell_type": "code",
      "metadata": {
        "id": "WZ1huw4p0F3K"
      },
      "source": [
        "def normalization(data):\n",
        "  numerator = data - np.min(data, 0)\n",
        "  denominator = np.max(data, 0) - np.min(data, 0)\n",
        "  return numerator / denominator"
      ],
      "execution_count": null,
      "outputs": []
    },
    {
      "cell_type": "markdown",
      "metadata": {
        "id": "rwA-ZKzY02Yd"
      },
      "source": [
        "X data(feature)의 값은 해당 배열의 첫번재 값부터 4번째 값까지로 정의되고 </br>\n",
        "Y data(label)는 해당 배열의 마지막 값을 정의한다. (5번째 값)"
      ]
    },
    {
      "cell_type": "code",
      "metadata": {
        "colab": {
          "base_uri": "https://localhost:8080/",
          "height": 276
        },
        "id": "KBk3VVqJ00hQ",
        "outputId": "f888b135-6353-4e5a-b079-c07489917b32"
      },
      "source": [
        "xy = np.array([[828.659973, 833.450012, 908100, 828.349976, 831.659973],\n",
        "               [823.02002, 828.070007, 1828100, 821.655029, 828.070007],\n",
        "               [819.929993, 824.400024, 1438100, 818.97998, 824.159973],\n",
        "               [816, 820.958984, 1008100, 815.48999, 819.23999],\n",
        "               [819.359985, 823, 1188100, 818.469971, 818.97998],\n",
        "               [819, 823, 1198100, 816, 820.450012],\n",
        "               [811.700012, 815.25, 1098100, 809.780029, 813.669983],\n",
        "               [809.51001, 816.659973, 1398100, 804.539978, 809.559998]])\n",
        "\n",
        "x_train = xy[:, 0:-1]\n",
        "y_train = xy[:, [-1]]\n",
        "\n",
        "plt.plot(x_train, 'ro')\n",
        "plt.plot(y_train)\n",
        "plt.show()"
      ],
      "execution_count": null,
      "outputs": [
        {
          "output_type": "display_data",
          "data": {
            "image/png": "[encoded data removed]",
            "text/plain": [
              "<Figure size 432x288 with 1 Axes>"
            ]
          },
          "metadata": {
            "tags": [],
            "needs_background": "light"
          }
        }
      ]
    },
    {
      "cell_type": "markdown",
      "metadata": {
        "id": "OHGt9SuJ1nvd"
      },
      "source": [
        "data에 표준화를 적용"
      ]
    },
    {
      "cell_type": "code",
      "metadata": {
        "colab": {
          "base_uri": "https://localhost:8080/",
          "height": 406
        },
        "id": "Q2WNeXi_1hK0",
        "outputId": "cc51ff22-c973-452b-9b7f-7b244b4f35a7"
      },
      "source": [
        "xy = normalization(xy)\n",
        "print(xy)\n",
        "\n",
        "x_train = xy[:, 0:-1]\n",
        "y_train = xy[:, [-1]]\n",
        "\n",
        "plt.plot(x_train, 'ro')\n",
        "plt.plot(y_train)\n",
        "plt.show()"
      ],
      "execution_count": null,
      "outputs": [
        {
          "output_type": "stream",
          "text": [
            "[[1.         1.         0.         1.         1.        ]\n",
            " [0.70548491 0.70439552 1.         0.71881783 0.83755792]\n",
            " [0.54412549 0.50274824 0.57608696 0.60646801 0.6606331 ]\n",
            " [0.33890353 0.31368023 0.10869565 0.45989134 0.43800918]\n",
            " [0.51436    0.4258239  0.30434783 0.58504805 0.42624401]\n",
            " [0.49556179 0.4258239  0.31521739 0.48131134 0.49276137]\n",
            " [0.11436064 0.         0.20652174 0.22007776 0.18597238]\n",
            " [0.         0.07747099 0.5326087  0.         0.        ]]\n"
          ],
          "name": "stdout"
        },
        {
          "output_type": "display_data",
          "data": {
            "image/png": "[encoded data removed]",
            "text/plain": [
              "<Figure size 432x288 with 1 Axes>"
            ]
          },
          "metadata": {
            "tags": [],
            "needs_background": "light"
          }
        }
      ]
    },
    {
      "cell_type": "markdown",
      "metadata": {
        "id": "JHqiK_bt3H28"
      },
      "source": [
        "Tensorflow data API를 통해 학습시킬 값들을 담는다. (Batch size는 한번에 학습시킬 size로 정한다.)</br>\n",
        "X(features), y(labels)는 실제 학습에 쓰일 data(연산을 위해 type을 맞춘다.)"
      ]
    },
    {
      "cell_type": "code",
      "metadata": {
        "id": "2JdvwFXV1u39"
      },
      "source": [
        "dataset = tf.data.Dataset.from_tensor_slices((x_train, y_train)).batch(len(x_train))"
      ],
      "execution_count": null,
      "outputs": []
    },
    {
      "cell_type": "markdown",
      "metadata": {
        "id": "x3TlHRCm3p-O"
      },
      "source": [
        "W와 b는 학습을 통해 생성되는 모델에 쓰이는 weight와 bias</br>\n",
        "(초기값을 variable: 0이나 random 값으로 가능함 : tf.random.normal / tf.zeros)\n"
      ]
    },
    {
      "cell_type": "code",
      "metadata": {
        "id": "HMbiUUz83oll"
      },
      "source": [
        "W = tf.Variable(tf.random.normal((4,1)), dtype=tf.float32)\n",
        "b = tf.Variable(tf.random.normal((1,)), dtype=tf.float32)"
      ],
      "execution_count": null,
      "outputs": []
    },
    {
      "cell_type": "markdown",
      "metadata": {
        "id": "YRTtWXKx4WPQ"
      },
      "source": [
        "Linear Regression의 hypothesis를 정의한다 (y = Wx + b)"
      ]
    },
    {
      "cell_type": "code",
      "metadata": {
        "id": "dU8W2-xg4RUe"
      },
      "source": [
        "def linearReg_fn(features):\n",
        "    hypothesis = tf.matmul(features, W) + b\n",
        "    return hypothesis"
      ],
      "execution_count": null,
      "outputs": []
    },
    {
      "cell_type": "markdown",
      "metadata": {
        "id": "GVvFel8D4jf7"
      },
      "source": [
        "L2_loss를 적용할 함수를 정의\n",
        "- weight의 수가 많아지면 수만큼 더한다 ( tf.nn.l2_loss(W2) + tf.nn.l2_loss(W3))"
      ]
    },
    {
      "cell_type": "code",
      "metadata": {
        "id": "wIS4fBIt4hND"
      },
      "source": [
        "def l2_loss(loss, beta = 0.01):\n",
        "  W_reg = tf.nn.l2_loss(W) # output = sum(t ** 2) /2\n",
        "  loss = tf.reduce_mean(loss + W_reg * beta)\n",
        "  return loss"
      ],
      "execution_count": null,
      "outputs": []
    },
    {
      "cell_type": "markdown",
      "metadata": {
        "id": "BKD4tJXF5jJ6"
      },
      "source": [
        "가설을 검증할 Cost 함수를 정의(Mean Square Error를 사용)"
      ]
    },
    {
      "cell_type": "code",
      "metadata": {
        "id": "L2YcgPG75iGe"
      },
      "source": [
        "def loss_fn(hypothesis, features, labels, flag = False):\n",
        "    cost = tf.reduce_mean(tf.square(hypothesis - labels))\n",
        "    if(flag):\n",
        "        cost = l2_loss(cost)\n",
        "    return cost"
      ],
      "execution_count": null,
      "outputs": []
    },
    {
      "cell_type": "markdown",
      "metadata": {
        "id": "VSc6hZ-p58_z"
      },
      "source": [
        "## Learning Rate 값을 조정하기 위한 Learning Decay 설정\n",
        "\n",
        "5개의 파라미터 설정\n",
        "- starter learning rate: 최초 학습시 learning rate (0.1로 설정하여 0.96씩 감소하는지 확인)\n",
        "- global step: 현재 학습 횟수\n",
        "- 1000 : 곱할 횟수 정의 (1000번에 마다 적용)\n",
        "- 0.96 : 기존 learning에 곱할 값\n",
        "- 적용유무 decayed_learning_rate = learning_rate * decay_rate ^ (global_step / decay_steps)\n",
        "- decayed_learning_rate = learning_rate * decay_rate ^ (global_step / decay_steps)"
      ]
    },
    {
      "cell_type": "code",
      "metadata": {
        "id": "ChtJYepJ7RAR"
      },
      "source": [
        "is_decay = True\n",
        "starter_learning_rate = 0.1\n",
        "\n",
        "if (is_decay):\n",
        "  learning_rate = tf.keras.optimizers.schedules.ExponentialDecay(initial_learning_rate=starter_learning_rate,\n",
        "                                                                 decay_steps=50,\n",
        "                                                                 decay_rate=0.96,\n",
        "                                                                 staircase=True)\n",
        "  optimizer = tf.keras.optimizers.SGD(learning_rate)\n",
        "\n",
        "else:\n",
        "  optimizer = tf.keras.optimizers.SGD(learning_rate=starter_learning_rate)\n",
        "\n",
        "def grad(hypothesis, feature, labels, l2_flag):\n",
        "  with tf.GradientTape() as tape:\n",
        "    loss_value = loss_fn(linearReg_fn(features), features, labels, l2_flag)\n",
        "  return tape.gradient(loss_value, [W, b]), loss_value"
      ],
      "execution_count": null,
      "outputs": []
    },
    {
      "cell_type": "markdown",
      "metadata": {
        "id": "6QCr0MXBB1ge"
      },
      "source": [
        "TensorFlow를 통해 학습진행"
      ]
    },
    {
      "cell_type": "code",
      "metadata": {
        "colab": {
          "base_uri": "https://localhost:8080/"
        },
        "id": "yuzoiUId8uLb",
        "outputId": "3430a7a2-e91b-4726-c30c-2bf494966cb9"
      },
      "source": [
        "epochs = 101\n",
        "\n",
        "for step in range(epochs):\n",
        "  for features, labels in dataset:\n",
        "    features = tf.cast(features, tf.float32)\n",
        "    labels = tf.cast(labels, tf.float32)\n",
        "    grads, loss_value = grad(linearReg_fn(features), features, labels, False)\n",
        "    optimizer.apply_gradients(grads_and_vars=zip(grads,[W,b])) \n",
        "  if step % 10 == 0:\n",
        "    print(\"Iter: {}, Loss: {:.4f}\".format(step, loss_value))\n"
      ],
      "execution_count": null,
      "outputs": [
        {
          "output_type": "stream",
          "text": [
            "Iter: 0, Loss: 0.3866\n",
            "Iter: 10, Loss: 0.1237\n",
            "Iter: 20, Loss: 0.0644\n",
            "Iter: 30, Loss: 0.0343\n",
            "Iter: 40, Loss: 0.0189\n",
            "Iter: 50, Loss: 0.0110\n",
            "Iter: 60, Loss: 0.0071\n",
            "Iter: 70, Loss: 0.0051\n",
            "Iter: 80, Loss: 0.0040\n",
            "Iter: 90, Loss: 0.0035\n",
            "Iter: 100, Loss: 0.0032\n"
          ],
          "name": "stdout"
        }
      ]
    }
  ]
}