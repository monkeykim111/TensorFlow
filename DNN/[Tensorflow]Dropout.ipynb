{
  "nbformat": 4,
  "nbformat_minor": 0,
  "metadata": {
    "colab": {
      "name": "[Tensorflow]Dropout.ipynb",
      "provenance": []
    },
    "kernelspec": {
      "name": "python3",
      "display_name": "Python 3"
    },
    "language_info": {
      "name": "python"
    }
  },
  "cells": [
    {
      "cell_type": "code",
      "metadata": {
        "colab": {
          "base_uri": "https://localhost:8080/"
        },
        "id": "I-AOMvC8-75U",
        "outputId": "c75c57b0-9485-408b-af9b-bda9c3b451a4"
      },
      "source": [
        "import tensorflow as tf\n",
        "import numpy as np\n",
        "from tensorflow.keras.utils import to_categorical\n",
        "from tensorflow.keras.datasets import mnist\n",
        "from time import time\n",
        "import os\n",
        "print(tf.__version__)"
      ],
      "execution_count": null,
      "outputs": [
        {
          "output_type": "stream",
          "text": [
            "2.5.0\n"
          ],
          "name": "stdout"
        }
      ]
    },
    {
      "cell_type": "code",
      "metadata": {
        "id": "VbW2N_kQDz8n"
      },
      "source": [
        "def load(model, checkpoint_dir):\n",
        "    print(\" [*] Reading checkpoints...\")\n",
        "\n",
        "    ckpt = tf.train.get_checkpoint_state(checkpoint_dir)\n",
        "    if ckpt :\n",
        "        ckpt_name = os.path.basename(ckpt.model_checkpoint_path)\n",
        "        checkpoint = tf.train.Checkpoint(dnn=model)\n",
        "        checkpoint.restore(save_path=os.path.join(checkpoint_dir, ckpt_name))\n",
        "        counter = int(ckpt_name.split('-')[1])\n",
        "        print(\" [*] Success to read {}\".format(ckpt_name))\n",
        "        return True, counter\n",
        "    else:\n",
        "        print(\" [*] Failed to find a checkpoint\")\n",
        "        return False, 0\n",
        "\n",
        "def check_folder(dir):\n",
        "    if not os.path.exists(dir):\n",
        "        os.makedirs(dir)\n",
        "    return dir"
      ],
      "execution_count": null,
      "outputs": []
    },
    {
      "cell_type": "code",
      "metadata": {
        "id": "KvSM_tbUD2QA"
      },
      "source": [
        "def load_mnist() :\n",
        "    (train_data, train_labels), (test_data, test_labels) = mnist.load_data()\n",
        "    train_data = np.expand_dims(train_data, axis=-1) # [N, 28, 28] -> [N, 28, 28, 1]\n",
        "    test_data = np.expand_dims(test_data, axis=-1) # [N, 28, 28] -> [N, 28, 28, 1]\n",
        "\n",
        "    train_data, test_data = normalize(train_data, test_data)\n",
        "\n",
        "    train_labels = to_categorical(train_labels, 10) # [N,] -> [N, 10]\n",
        "    test_labels = to_categorical(test_labels, 10) # [N,] -> [N, 10]\n",
        "\n",
        "    return train_data, train_labels, test_data, test_labels\n",
        "\n",
        "def normalize(train_data, test_data):\n",
        "    train_data = train_data.astype(np.float32) / 255.0\n",
        "    test_data = test_data.astype(np.float32) / 255.0\n",
        "\n",
        "    return train_data, test_data"
      ],
      "execution_count": null,
      "outputs": []
    },
    {
      "cell_type": "code",
      "metadata": {
        "id": "IyGp6zCWD4oh"
      },
      "source": [
        "def loss_fn(model, images, labels):\n",
        "    logits = model(images, training=True)\n",
        "    loss = tf.reduce_mean(tf.keras.losses.categorical_crossentropy(y_pred=logits, y_true=labels, \n",
        "                                                                   from_logits=True))\n",
        "    return loss\n",
        "\n",
        "def accuracy_fn(model, images, labels):\n",
        "    logits = model(images, training=False)\n",
        "    prediction = tf.equal(tf.argmax(logits, -1), tf.argmax(labels, -1))\n",
        "    accuracy = tf.reduce_mean(tf.cast(prediction, tf.float32))\n",
        "    return accuracy\n",
        "\n",
        "def grad(model, images, labels):\n",
        "    with tf.GradientTape() as tape:\n",
        "        loss = loss_fn(model, images, labels)\n",
        "    return tape.gradient(loss, model.variables)"
      ],
      "execution_count": null,
      "outputs": []
    },
    {
      "cell_type": "code",
      "metadata": {
        "id": "z8FMC3yyD6-u"
      },
      "source": [
        "def flatten() :\n",
        "    return tf.keras.layers.Flatten()\n",
        "\n",
        "def dense(label_dim, weight_init) :\n",
        "    return tf.keras.layers.Dense(units=label_dim, use_bias=True, kernel_initializer=weight_init)\n",
        "\n",
        "def relu() :\n",
        "    return tf.keras.layers.Activation(tf.keras.activations.relu)\n",
        "\n",
        "def dropout() :\n",
        "  return tf.keras.layers.Dropout(rate)"
      ],
      "execution_count": null,
      "outputs": []
    },
    {
      "cell_type": "code",
      "metadata": {
        "id": "yMyr4bevFLqc"
      },
      "source": [
        "class create_model_class(tf.keras.Model):\n",
        "    def __init__(self, label_dim):\n",
        "        super(create_model_class, self).__init__()\n",
        "        weight_init = tf.keras.initializers.glorot_uniform()\n",
        "\n",
        "        self.model = tf.keras.Sequential()\n",
        "        self.model.add(flatten())\n",
        "\n",
        "        for i in range(4):\n",
        "            self.model.add(dense(512, weight_init))\n",
        "            self.model.add(relu())\n",
        "            self.model.add(dropout(rate=0.5))\n",
        "\n",
        "        self.model.add(dense(label_dim, weight_init))\n",
        "\n",
        "    def call(self, x, training=None, mask=None):\n",
        "\n",
        "        x = self.model(x)\n",
        "\n",
        "        return x"
      ],
      "execution_count": null,
      "outputs": []
    },
    {
      "cell_type": "code",
      "metadata": {
        "id": "MYYOoT0dF3jQ"
      },
      "source": [
        "def create_model_function(label_dim) :\n",
        "    weight_init = tf.keras.initializers.glorot_uniform()\n",
        "\n",
        "    model = tf.keras.Sequential()\n",
        "    model.add(flatten())\n",
        "\n",
        "    for i in range(4) :\n",
        "        model.add(dense(512, weight_init))\n",
        "        model.add(relu())\n",
        "        model.add(dropout(rate=0.5))\n",
        "\n",
        "    model.add(dense(label_dim, weight_init))\n",
        "\n",
        "    return model"
      ],
      "execution_count": null,
      "outputs": []
    },
    {
      "cell_type": "code",
      "metadata": {
        "id": "Y1hy-8rjGDli"
      },
      "source": [
        "\"\"\" dataset \"\"\"\n",
        "train_x, train_y, test_x, test_y = load_mnist()\n",
        "\n",
        "\"\"\" parameters \"\"\"\n",
        "learning_rate = 0.001\n",
        "batch_size = 128\n",
        "\n",
        "training_epochs = 1\n",
        "training_iterations = len(train_x) // batch_size\n",
        "\n",
        "label_dim = 10\n",
        "\n",
        "train_flag = True\n",
        "\n",
        "\"\"\" Graph Input using Dataset API \"\"\"\n",
        "train_dataset = tf.data.Dataset.from_tensor_slices((train_x, train_y)).\\\n",
        "    shuffle(buffer_size=100000).\\\n",
        "    prefetch(buffer_size=batch_size).\\\n",
        "    batch(batch_size, drop_remainder=True)\n",
        "\n",
        "test_dataset = tf.data.Dataset.from_tensor_slices((test_x, test_y)).\\\n",
        "    shuffle(buffer_size=100000).\\\n",
        "    prefetch(buffer_size=len(test_x)).\\\n",
        "    batch(len(test_x))"
      ],
      "execution_count": null,
      "outputs": []
    },
    {
      "cell_type": "code",
      "metadata": {
        "colab": {
          "base_uri": "https://localhost:8080/",
          "height": 362
        },
        "id": "4bBNgib0GFHP",
        "outputId": "7b4a2149-06e2-415e-da98-3dfcc8cb2213"
      },
      "source": [
        "\"\"\" Model \"\"\"\n",
        "network = create_model_function(label_dim)\n",
        "\n",
        "\"\"\" Training \"\"\"\n",
        "optimizer = tf.keras.optimizers.Adam(learning_rate=learning_rate)\n",
        "\n",
        "\"\"\" Writer \"\"\"\n",
        "checkpoint_dir = 'checkpoints'\n",
        "logs_dir = 'logs'\n",
        "\n",
        "model_dir = 'nn_dropout'\n",
        "\n",
        "checkpoint_dir = os.path.join(checkpoint_dir, model_dir)\n",
        "check_folder(checkpoint_dir)\n",
        "checkpoint_prefix = os.path.join(checkpoint_dir, model_dir)\n",
        "logs_dir = os.path.join(logs_dir, model_dir)"
      ],
      "execution_count": null,
      "outputs": [
        {
          "output_type": "error",
          "ename": "TypeError",
          "evalue": "ignored",
          "traceback": [
            "\u001b[0;31m---------------------------------------------------------------------------\u001b[0m",
            "\u001b[0;31mTypeError\u001b[0m                                 Traceback (most recent call last)",
            "\u001b[0;32m<ipython-input-15-d909b36b23bd>\u001b[0m in \u001b[0;36m<module>\u001b[0;34m()\u001b[0m\n\u001b[1;32m      1\u001b[0m \u001b[0;34m\"\"\" Model \"\"\"\u001b[0m\u001b[0;34m\u001b[0m\u001b[0;34m\u001b[0m\u001b[0m\n\u001b[0;32m----> 2\u001b[0;31m \u001b[0mnetwork\u001b[0m \u001b[0;34m=\u001b[0m \u001b[0mcreate_model_function\u001b[0m\u001b[0;34m(\u001b[0m\u001b[0mlabel_dim\u001b[0m\u001b[0;34m)\u001b[0m\u001b[0;34m\u001b[0m\u001b[0;34m\u001b[0m\u001b[0m\n\u001b[0m\u001b[1;32m      3\u001b[0m \u001b[0;34m\u001b[0m\u001b[0m\n\u001b[1;32m      4\u001b[0m \u001b[0;34m\"\"\" Training \"\"\"\u001b[0m\u001b[0;34m\u001b[0m\u001b[0;34m\u001b[0m\u001b[0m\n\u001b[1;32m      5\u001b[0m \u001b[0moptimizer\u001b[0m \u001b[0;34m=\u001b[0m \u001b[0mtf\u001b[0m\u001b[0;34m.\u001b[0m\u001b[0mkeras\u001b[0m\u001b[0;34m.\u001b[0m\u001b[0moptimizers\u001b[0m\u001b[0;34m.\u001b[0m\u001b[0mAdam\u001b[0m\u001b[0;34m(\u001b[0m\u001b[0mlearning_rate\u001b[0m\u001b[0;34m=\u001b[0m\u001b[0mlearning_rate\u001b[0m\u001b[0;34m)\u001b[0m\u001b[0;34m\u001b[0m\u001b[0;34m\u001b[0m\u001b[0m\n",
            "\u001b[0;32m<ipython-input-13-99c1533efdce>\u001b[0m in \u001b[0;36mcreate_model_function\u001b[0;34m(label_dim)\u001b[0m\n\u001b[1;32m      8\u001b[0m         \u001b[0mmodel\u001b[0m\u001b[0;34m.\u001b[0m\u001b[0madd\u001b[0m\u001b[0;34m(\u001b[0m\u001b[0mdense\u001b[0m\u001b[0;34m(\u001b[0m\u001b[0;36m512\u001b[0m\u001b[0;34m,\u001b[0m \u001b[0mweight_init\u001b[0m\u001b[0;34m)\u001b[0m\u001b[0;34m)\u001b[0m\u001b[0;34m\u001b[0m\u001b[0;34m\u001b[0m\u001b[0m\n\u001b[1;32m      9\u001b[0m         \u001b[0mmodel\u001b[0m\u001b[0;34m.\u001b[0m\u001b[0madd\u001b[0m\u001b[0;34m(\u001b[0m\u001b[0mrelu\u001b[0m\u001b[0;34m(\u001b[0m\u001b[0;34m)\u001b[0m\u001b[0;34m)\u001b[0m\u001b[0;34m\u001b[0m\u001b[0;34m\u001b[0m\u001b[0m\n\u001b[0;32m---> 10\u001b[0;31m         \u001b[0mmodel\u001b[0m\u001b[0;34m.\u001b[0m\u001b[0madd\u001b[0m\u001b[0;34m(\u001b[0m\u001b[0mdropout\u001b[0m\u001b[0;34m(\u001b[0m\u001b[0mrate\u001b[0m\u001b[0;34m=\u001b[0m\u001b[0;36m0.5\u001b[0m\u001b[0;34m)\u001b[0m\u001b[0;34m)\u001b[0m\u001b[0;34m\u001b[0m\u001b[0;34m\u001b[0m\u001b[0m\n\u001b[0m\u001b[1;32m     11\u001b[0m \u001b[0;34m\u001b[0m\u001b[0m\n\u001b[1;32m     12\u001b[0m     \u001b[0mmodel\u001b[0m\u001b[0;34m.\u001b[0m\u001b[0madd\u001b[0m\u001b[0;34m(\u001b[0m\u001b[0mdense\u001b[0m\u001b[0;34m(\u001b[0m\u001b[0mlabel_dim\u001b[0m\u001b[0;34m,\u001b[0m \u001b[0mweight_init\u001b[0m\u001b[0;34m)\u001b[0m\u001b[0;34m)\u001b[0m\u001b[0;34m\u001b[0m\u001b[0;34m\u001b[0m\u001b[0m\n",
            "\u001b[0;31mTypeError\u001b[0m: dropout() got an unexpected keyword argument 'rate'"
          ]
        }
      ]
    },
    {
      "cell_type": "code",
      "metadata": {
        "colab": {
          "base_uri": "https://localhost:8080/",
          "height": 239
        },
        "id": "zKGWnGWbGHJd",
        "outputId": "432b8513-9769-402d-ddda-df386e9b2d04"
      },
      "source": [
        "if train_flag :\n",
        "\n",
        "    checkpoint = tf.train.Checkpoint(dnn=network)\n",
        "\n",
        "    # create writer for tensorboard\n",
        "    summary_writer = tf.summary.create_file_writer(logdir=logs_dir)\n",
        "    start_time = time()\n",
        "\n",
        "    # restore check-point if it exits\n",
        "    could_load, checkpoint_counter = load(network, checkpoint_dir)    \n",
        "\n",
        "    if could_load:\n",
        "        start_epoch = (int)(checkpoint_counter / training_iterations)        \n",
        "        counter = checkpoint_counter        \n",
        "        print(\" [*] Load SUCCESS\")\n",
        "    else:\n",
        "        start_epoch = 0\n",
        "        start_iteration = 0\n",
        "        counter = 0\n",
        "        print(\" [!] Load failed...\")\n",
        "    \n",
        "    # train phase\n",
        "    with summary_writer.as_default():  # for tensorboard\n",
        "        for epoch in range(start_epoch, training_epochs):\n",
        "            for idx, (train_input, train_label) in enumerate(train_dataset):            \n",
        "                grads = grad(network, train_input, train_label)\n",
        "                optimizer.apply_gradients(grads_and_vars=zip(grads, network.variables))\n",
        "\n",
        "                train_loss = loss_fn(network, train_input, train_label)\n",
        "                train_accuracy = accuracy_fn(network, train_input, train_label)\n",
        "                \n",
        "                for test_input, test_label in test_dataset:                \n",
        "                    test_accuracy = accuracy_fn(network, test_input, test_label)\n",
        "\n",
        "                tf.summary.scalar(name='train_loss', data=train_loss, step=counter)\n",
        "                tf.summary.scalar(name='train_accuracy', data=train_accuracy, step=counter)\n",
        "                tf.summary.scalar(name='test_accuracy', data=test_accuracy, step=counter)\n",
        "\n",
        "                print(\n",
        "                    \"Epoch: [%2d] [%5d/%5d] time: %4.4f, train_loss: %.8f, train_accuracy: %.4f, test_Accuracy: %.4f\" \\\n",
        "                    % (epoch, idx, training_iterations, time() - start_time, train_loss, train_accuracy,\n",
        "                       test_accuracy))\n",
        "                counter += 1                \n",
        "        checkpoint.save(file_prefix=checkpoint_prefix + '-{}'.format(counter))\n",
        "        \n",
        "# test phase      \n",
        "else :\n",
        "    _, _ = load(network, checkpoint_dir)\n",
        "    for test_input, test_label in test_dataset:    \n",
        "        test_accuracy = accuracy_fn(network, test_input, test_label)\n",
        "\n",
        "    print(\"test_Accuracy: %.4f\" % (test_accuracy))"
      ],
      "execution_count": null,
      "outputs": [
        {
          "output_type": "error",
          "ename": "NameError",
          "evalue": "ignored",
          "traceback": [
            "\u001b[0;31m---------------------------------------------------------------------------\u001b[0m",
            "\u001b[0;31mNameError\u001b[0m                                 Traceback (most recent call last)",
            "\u001b[0;32m<ipython-input-16-07a882d3ed46>\u001b[0m in \u001b[0;36m<module>\u001b[0;34m()\u001b[0m\n\u001b[1;32m      1\u001b[0m \u001b[0;32mif\u001b[0m \u001b[0mtrain_flag\u001b[0m \u001b[0;34m:\u001b[0m\u001b[0;34m\u001b[0m\u001b[0;34m\u001b[0m\u001b[0m\n\u001b[1;32m      2\u001b[0m \u001b[0;34m\u001b[0m\u001b[0m\n\u001b[0;32m----> 3\u001b[0;31m     \u001b[0mcheckpoint\u001b[0m \u001b[0;34m=\u001b[0m \u001b[0mtf\u001b[0m\u001b[0;34m.\u001b[0m\u001b[0mtrain\u001b[0m\u001b[0;34m.\u001b[0m\u001b[0mCheckpoint\u001b[0m\u001b[0;34m(\u001b[0m\u001b[0mdnn\u001b[0m\u001b[0;34m=\u001b[0m\u001b[0mnetwork\u001b[0m\u001b[0;34m)\u001b[0m\u001b[0;34m\u001b[0m\u001b[0;34m\u001b[0m\u001b[0m\n\u001b[0m\u001b[1;32m      4\u001b[0m \u001b[0;34m\u001b[0m\u001b[0m\n\u001b[1;32m      5\u001b[0m     \u001b[0;31m# create writer for tensorboard\u001b[0m\u001b[0;34m\u001b[0m\u001b[0;34m\u001b[0m\u001b[0;34m\u001b[0m\u001b[0m\n",
            "\u001b[0;31mNameError\u001b[0m: name 'network' is not defined"
          ]
        }
      ]
    },
    {
      "cell_type": "code",
      "metadata": {
        "id": "OLwhoJEzGKJl"
      },
      "source": [
        ""
      ],
      "execution_count": null,
      "outputs": []
    }
  ]
}