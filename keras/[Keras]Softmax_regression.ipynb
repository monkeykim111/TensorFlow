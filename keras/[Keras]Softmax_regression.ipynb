{
  "nbformat": 4,
  "nbformat_minor": 0,
  "metadata": {
    "colab": {
      "name": "[Keras]Softmax regression.ipynb",
      "provenance": [],
      "collapsed_sections": []
    },
    "kernelspec": {
      "name": "python3",
      "display_name": "Python 3"
    },
    "language_info": {
      "name": "python"
    }
  },
  "cells": [
    {
      "cell_type": "markdown",
      "metadata": {
        "id": "R3EEcsh7z7H1"
      },
      "source": [
        "one_hot_encoding"
      ]
    },
    {
      "cell_type": "code",
      "metadata": {
        "id": "cf0xFvykopsD"
      },
      "source": [
        "import numpy as np\n",
        "from keras.utils import np_utils\n",
        "from sklearn.preprocessing import LabelEncoder\n",
        "from keras.models import Sequential\n",
        "from keras.layers import Dense"
      ],
      "execution_count": 20,
      "outputs": []
    },
    {
      "cell_type": "code",
      "metadata": {
        "id": "3bFPMEF-yl0d"
      },
      "source": [
        "X = np.array(['dog', 'cat', 'bird', 'fish'])"
      ],
      "execution_count": 3,
      "outputs": []
    },
    {
      "cell_type": "code",
      "metadata": {
        "id": "GXWlP9gAy5su"
      },
      "source": [
        "# 라벨 인코더 생성하기\n",
        "encoder = LabelEncoder()"
      ],
      "execution_count": 4,
      "outputs": []
    },
    {
      "cell_type": "code",
      "metadata": {
        "colab": {
          "base_uri": "https://localhost:8080/"
        },
        "id": "dz2Z7VIty-Ry",
        "outputId": "9204eab1-1862-4331-dea3-f77910b37118"
      },
      "source": [
        "# 숫자로 변환하기\n",
        "encoder.fit(X)\n",
        "y = encoder.transform(X)\n",
        "print(y)"
      ],
      "execution_count": 5,
      "outputs": [
        {
          "output_type": "stream",
          "text": [
            "[2 1 0 3]\n"
          ],
          "name": "stdout"
        }
      ]
    },
    {
      "cell_type": "code",
      "metadata": {
        "colab": {
          "base_uri": "https://localhost:8080/"
        },
        "id": "aOJlqUAczHnD",
        "outputId": "aab0f2c5-6cfc-4b80-c44d-c77806ff6f65"
      },
      "source": [
        "# 디코더\n",
        "print(encoder.inverse_transform([3,2,1,0]))"
      ],
      "execution_count": 6,
      "outputs": [
        {
          "output_type": "stream",
          "text": [
            "['fish' 'dog' 'cat' 'bird']\n"
          ],
          "name": "stdout"
        }
      ]
    },
    {
      "cell_type": "code",
      "metadata": {
        "colab": {
          "base_uri": "https://localhost:8080/"
        },
        "id": "qp5CwnFjzQt-",
        "outputId": "ec225604-fbdd-4204-8d7b-551d308c226b"
      },
      "source": [
        "# one_hot_encoding\n",
        "Y = np_utils.to_categorical(y)\n",
        "print(y)"
      ],
      "execution_count": 8,
      "outputs": [
        {
          "output_type": "stream",
          "text": [
            "[2 1 0 3]\n"
          ],
          "name": "stdout"
        }
      ]
    },
    {
      "cell_type": "markdown",
      "metadata": {
        "id": "zReSuUn62U1j"
      },
      "source": [
        "붓꽃(irsi) 데이터셋 로드"
      ]
    },
    {
      "cell_type": "code",
      "metadata": {
        "colab": {
          "base_uri": "https://localhost:8080/",
          "height": 203
        },
        "id": "f6wYzx27zb_N",
        "outputId": "8fa93618-91a6-474a-ab23-302e411cb47e"
      },
      "source": [
        "import pandas as pd\n",
        "df = pd.read_csv('/content/iris(150).csv')\n",
        "df.head()"
      ],
      "execution_count": 9,
      "outputs": [
        {
          "output_type": "execute_result",
          "data": {
            "text/html": [
              "<div>\n",
              "<style scoped>\n",
              "    .dataframe tbody tr th:only-of-type {\n",
              "        vertical-align: middle;\n",
              "    }\n",
              "\n",
              "    .dataframe tbody tr th {\n",
              "        vertical-align: top;\n",
              "    }\n",
              "\n",
              "    .dataframe thead th {\n",
              "        text-align: right;\n",
              "    }\n",
              "</style>\n",
              "<table border=\"1\" class=\"dataframe\">\n",
              "  <thead>\n",
              "    <tr style=\"text-align: right;\">\n",
              "      <th></th>\n",
              "      <th>caseno</th>\n",
              "      <th>SepalLength</th>\n",
              "      <th>SepalWidth</th>\n",
              "      <th>PetalLength</th>\n",
              "      <th>PetalWidth</th>\n",
              "      <th>Species</th>\n",
              "    </tr>\n",
              "  </thead>\n",
              "  <tbody>\n",
              "    <tr>\n",
              "      <th>0</th>\n",
              "      <td>1</td>\n",
              "      <td>5.1</td>\n",
              "      <td>3.5</td>\n",
              "      <td>1.4</td>\n",
              "      <td>0.2</td>\n",
              "      <td>setosa</td>\n",
              "    </tr>\n",
              "    <tr>\n",
              "      <th>1</th>\n",
              "      <td>2</td>\n",
              "      <td>4.9</td>\n",
              "      <td>3.0</td>\n",
              "      <td>1.4</td>\n",
              "      <td>0.2</td>\n",
              "      <td>setosa</td>\n",
              "    </tr>\n",
              "    <tr>\n",
              "      <th>2</th>\n",
              "      <td>3</td>\n",
              "      <td>4.7</td>\n",
              "      <td>3.2</td>\n",
              "      <td>1.3</td>\n",
              "      <td>0.2</td>\n",
              "      <td>setosa</td>\n",
              "    </tr>\n",
              "    <tr>\n",
              "      <th>3</th>\n",
              "      <td>4</td>\n",
              "      <td>4.6</td>\n",
              "      <td>3.1</td>\n",
              "      <td>1.5</td>\n",
              "      <td>0.2</td>\n",
              "      <td>setosa</td>\n",
              "    </tr>\n",
              "    <tr>\n",
              "      <th>4</th>\n",
              "      <td>5</td>\n",
              "      <td>5.0</td>\n",
              "      <td>3.6</td>\n",
              "      <td>1.4</td>\n",
              "      <td>0.2</td>\n",
              "      <td>setosa</td>\n",
              "    </tr>\n",
              "  </tbody>\n",
              "</table>\n",
              "</div>"
            ],
            "text/plain": [
              "   caseno  SepalLength  SepalWidth  PetalLength  PetalWidth Species\n",
              "0       1          5.1         3.5          1.4         0.2  setosa\n",
              "1       2          4.9         3.0          1.4         0.2  setosa\n",
              "2       3          4.7         3.2          1.3         0.2  setosa\n",
              "3       4          4.6         3.1          1.5         0.2  setosa\n",
              "4       5          5.0         3.6          1.4         0.2  setosa"
            ]
          },
          "metadata": {
            "tags": []
          },
          "execution_count": 9
        }
      ]
    },
    {
      "cell_type": "code",
      "metadata": {
        "id": "MVpYVtWe0oGD"
      },
      "source": [
        "df = df.drop(['caseno'], axis=1)"
      ],
      "execution_count": 14,
      "outputs": []
    },
    {
      "cell_type": "code",
      "metadata": {
        "id": "QoGQ_VdZ0t45"
      },
      "source": [
        "# X 데이터 할당\n",
        "\n",
        "data_set = df.values\n",
        "X = data_set[:, 0:4].astype(float)\n",
        "\n",
        "# y 데이터 할당\n",
        "y = data_set[:, 4]"
      ],
      "execution_count": 17,
      "outputs": []
    },
    {
      "cell_type": "code",
      "metadata": {
        "id": "9CX8hcqg090b"
      },
      "source": [
        "# labelencoder: 수치 변환\n",
        "encoder = LabelEncoder()\n",
        "encoder.fit(y)\n",
        "y_encodered = encoder.transform(y)"
      ],
      "execution_count": 18,
      "outputs": []
    },
    {
      "cell_type": "code",
      "metadata": {
        "id": "xkR-aBp62GCu"
      },
      "source": [
        "# one_hot_encoding\n",
        "y = pd.get_dummies(y_encodered).values\n",
        "print(y)"
      ],
      "execution_count": null,
      "outputs": []
    },
    {
      "cell_type": "markdown",
      "metadata": {
        "id": "sjzGFoQY3KX0"
      },
      "source": [
        "모델 생성하기"
      ]
    },
    {
      "cell_type": "code",
      "metadata": {
        "id": "hg_T-KdE2OnK"
      },
      "source": [
        "model = Sequential()\n",
        "\n",
        "model.add(Dense(16, input_dim=4, activation='relu'))\n",
        "# 출력 노드 16, 입력 노드 4, 활성화 함수 relu\n",
        "model.add(Dense(3, activation='softmax'))\n",
        "# 출력 노드 3 (붓꽃의 종류가 3개이므로), 활성화 함수 softmax\n"
      ],
      "execution_count": 21,
      "outputs": []
    },
    {
      "cell_type": "markdown",
      "metadata": {
        "id": "nsdWIwmm3tHL"
      },
      "source": [
        "모델 구성하기"
      ]
    },
    {
      "cell_type": "code",
      "metadata": {
        "id": "CUmXmrzl3uNu"
      },
      "source": [
        "model.compile(loss='categorical_crossentropy', optimizer='adam', metrics=['accuracy'])\n",
        "# softmax 활성화 함수를 사용할 때는 loss 함수로 categorical_crossentropy를 사용한다."
      ],
      "execution_count": 22,
      "outputs": []
    },
    {
      "cell_type": "markdown",
      "metadata": {
        "id": "lm5ikdS04E-j"
      },
      "source": [
        "모델 학습하기"
      ]
    },
    {
      "cell_type": "code",
      "metadata": {
        "colab": {
          "base_uri": "https://localhost:8080/"
        },
        "id": "e9038AzD398m",
        "outputId": "019644f4-fce1-45ff-db2a-592f68b0eb6d"
      },
      "source": [
        "model.fit(X, y, epochs=100, batch_size=1)\n"
      ],
      "execution_count": 23,
      "outputs": [
        {
          "output_type": "stream",
          "text": [
            "Epoch 1/100\n",
            "150/150 [==============================] - 15s 1ms/step - loss: 2.2114 - accuracy: 0.3330\n",
            "Epoch 2/100\n",
            "150/150 [==============================] - 0s 1ms/step - loss: 1.2436 - accuracy: 0.3724\n",
            "Epoch 3/100\n",
            "150/150 [==============================] - 0s 1ms/step - loss: 0.9998 - accuracy: 0.3491\n",
            "Epoch 4/100\n",
            "150/150 [==============================] - 0s 1ms/step - loss: 0.7585 - accuracy: 0.6427\n",
            "Epoch 5/100\n",
            "150/150 [==============================] - 0s 1ms/step - loss: 0.6316 - accuracy: 0.8597\n",
            "Epoch 6/100\n",
            "150/150 [==============================] - 0s 1ms/step - loss: 0.5590 - accuracy: 0.9420\n",
            "Epoch 7/100\n",
            "150/150 [==============================] - 0s 1ms/step - loss: 0.5150 - accuracy: 0.8641\n",
            "Epoch 8/100\n",
            "150/150 [==============================] - 0s 1ms/step - loss: 0.4696 - accuracy: 0.8341\n",
            "Epoch 9/100\n",
            "150/150 [==============================] - 0s 996us/step - loss: 0.4152 - accuracy: 0.9128\n",
            "Epoch 10/100\n",
            "150/150 [==============================] - 0s 983us/step - loss: 0.3748 - accuracy: 0.9101\n",
            "Epoch 11/100\n",
            "150/150 [==============================] - 0s 1ms/step - loss: 0.3961 - accuracy: 0.9013\n",
            "Epoch 12/100\n",
            "150/150 [==============================] - 0s 1ms/step - loss: 0.3341 - accuracy: 0.8763\n",
            "Epoch 13/100\n",
            "150/150 [==============================] - 0s 1ms/step - loss: 0.3321 - accuracy: 0.9320\n",
            "Epoch 14/100\n",
            "150/150 [==============================] - 0s 1ms/step - loss: 0.3245 - accuracy: 0.9249\n",
            "Epoch 15/100\n",
            "150/150 [==============================] - 0s 988us/step - loss: 0.3142 - accuracy: 0.9130\n",
            "Epoch 16/100\n",
            "150/150 [==============================] - 0s 1ms/step - loss: 0.3010 - accuracy: 0.9335\n",
            "Epoch 17/100\n",
            "150/150 [==============================] - 0s 1ms/step - loss: 0.2677 - accuracy: 0.9588\n",
            "Epoch 18/100\n",
            "150/150 [==============================] - 0s 1ms/step - loss: 0.2719 - accuracy: 0.9458\n",
            "Epoch 19/100\n",
            "150/150 [==============================] - 0s 1ms/step - loss: 0.2649 - accuracy: 0.8960\n",
            "Epoch 20/100\n",
            "150/150 [==============================] - 0s 1ms/step - loss: 0.2050 - accuracy: 0.9825\n",
            "Epoch 21/100\n",
            "150/150 [==============================] - 0s 969us/step - loss: 0.2028 - accuracy: 0.9687\n",
            "Epoch 22/100\n",
            "150/150 [==============================] - 0s 983us/step - loss: 0.2338 - accuracy: 0.9384\n",
            "Epoch 23/100\n",
            "150/150 [==============================] - 0s 1ms/step - loss: 0.2615 - accuracy: 0.9441\n",
            "Epoch 24/100\n",
            "150/150 [==============================] - 0s 1ms/step - loss: 0.2027 - accuracy: 0.9547\n",
            "Epoch 25/100\n",
            "150/150 [==============================] - 0s 1ms/step - loss: 0.2172 - accuracy: 0.9433\n",
            "Epoch 26/100\n",
            "150/150 [==============================] - 0s 1ms/step - loss: 0.1918 - accuracy: 0.9722\n",
            "Epoch 27/100\n",
            "150/150 [==============================] - 0s 994us/step - loss: 0.1955 - accuracy: 0.9563\n",
            "Epoch 28/100\n",
            "150/150 [==============================] - 0s 1ms/step - loss: 0.2038 - accuracy: 0.9530\n",
            "Epoch 29/100\n",
            "150/150 [==============================] - 0s 1ms/step - loss: 0.1839 - accuracy: 0.9456\n",
            "Epoch 30/100\n",
            "150/150 [==============================] - 0s 1ms/step - loss: 0.1635 - accuracy: 0.9763\n",
            "Epoch 31/100\n",
            "150/150 [==============================] - 0s 1ms/step - loss: 0.1532 - accuracy: 0.9905\n",
            "Epoch 32/100\n",
            "150/150 [==============================] - 0s 1ms/step - loss: 0.1645 - accuracy: 0.9709\n",
            "Epoch 33/100\n",
            "150/150 [==============================] - 0s 1ms/step - loss: 0.1898 - accuracy: 0.9731\n",
            "Epoch 34/100\n",
            "150/150 [==============================] - 0s 1ms/step - loss: 0.1325 - accuracy: 0.9679\n",
            "Epoch 35/100\n",
            "150/150 [==============================] - 0s 1ms/step - loss: 0.1369 - accuracy: 0.9755\n",
            "Epoch 36/100\n",
            "150/150 [==============================] - 0s 1ms/step - loss: 0.1567 - accuracy: 0.9632\n",
            "Epoch 37/100\n",
            "150/150 [==============================] - 0s 1ms/step - loss: 0.1298 - accuracy: 0.9772\n",
            "Epoch 38/100\n",
            "150/150 [==============================] - 0s 1ms/step - loss: 0.1279 - accuracy: 0.9798\n",
            "Epoch 39/100\n",
            "150/150 [==============================] - 0s 1ms/step - loss: 0.1327 - accuracy: 0.9766\n",
            "Epoch 40/100\n",
            "150/150 [==============================] - 0s 1ms/step - loss: 0.1166 - accuracy: 0.9711\n",
            "Epoch 41/100\n",
            "150/150 [==============================] - 0s 1ms/step - loss: 0.1076 - accuracy: 0.9678\n",
            "Epoch 42/100\n",
            "150/150 [==============================] - 0s 1ms/step - loss: 0.0959 - accuracy: 0.9734\n",
            "Epoch 43/100\n",
            "150/150 [==============================] - 0s 1ms/step - loss: 0.1083 - accuracy: 0.9860\n",
            "Epoch 44/100\n",
            "150/150 [==============================] - 0s 1ms/step - loss: 0.1422 - accuracy: 0.9513\n",
            "Epoch 45/100\n",
            "150/150 [==============================] - 0s 1ms/step - loss: 0.1170 - accuracy: 0.9874\n",
            "Epoch 46/100\n",
            "150/150 [==============================] - 0s 1ms/step - loss: 0.1183 - accuracy: 0.9759\n",
            "Epoch 47/100\n",
            "150/150 [==============================] - 0s 1ms/step - loss: 0.1121 - accuracy: 0.9644\n",
            "Epoch 48/100\n",
            "150/150 [==============================] - 0s 1ms/step - loss: 0.1062 - accuracy: 0.9861\n",
            "Epoch 49/100\n",
            "150/150 [==============================] - 0s 1ms/step - loss: 0.1240 - accuracy: 0.9677\n",
            "Epoch 50/100\n",
            "150/150 [==============================] - 0s 1ms/step - loss: 0.1117 - accuracy: 0.9734\n",
            "Epoch 51/100\n",
            "150/150 [==============================] - 0s 1ms/step - loss: 0.1171 - accuracy: 0.9694\n",
            "Epoch 52/100\n",
            "150/150 [==============================] - 0s 1ms/step - loss: 0.0728 - accuracy: 0.9877\n",
            "Epoch 53/100\n",
            "150/150 [==============================] - 0s 1ms/step - loss: 0.0840 - accuracy: 0.9876\n",
            "Epoch 54/100\n",
            "150/150 [==============================] - 0s 1ms/step - loss: 0.0744 - accuracy: 0.9832\n",
            "Epoch 55/100\n",
            "150/150 [==============================] - 0s 1ms/step - loss: 0.0696 - accuracy: 0.9839\n",
            "Epoch 56/100\n",
            "150/150 [==============================] - 0s 1ms/step - loss: 0.0828 - accuracy: 0.9803\n",
            "Epoch 57/100\n",
            "150/150 [==============================] - 0s 1ms/step - loss: 0.1121 - accuracy: 0.9643\n",
            "Epoch 58/100\n",
            "150/150 [==============================] - 0s 1ms/step - loss: 0.0918 - accuracy: 0.9788\n",
            "Epoch 59/100\n",
            "150/150 [==============================] - 0s 1ms/step - loss: 0.1133 - accuracy: 0.9654\n",
            "Epoch 60/100\n",
            "150/150 [==============================] - 0s 1ms/step - loss: 0.1348 - accuracy: 0.9596\n",
            "Epoch 61/100\n",
            "150/150 [==============================] - 0s 1ms/step - loss: 0.0865 - accuracy: 0.9671\n",
            "Epoch 62/100\n",
            "150/150 [==============================] - 0s 1ms/step - loss: 0.1009 - accuracy: 0.9529\n",
            "Epoch 63/100\n",
            "150/150 [==============================] - 0s 1ms/step - loss: 0.0863 - accuracy: 0.9599\n",
            "Epoch 64/100\n",
            "150/150 [==============================] - 0s 1ms/step - loss: 0.0991 - accuracy: 0.9878\n",
            "Epoch 65/100\n",
            "150/150 [==============================] - 0s 982us/step - loss: 0.0690 - accuracy: 0.9913\n",
            "Epoch 66/100\n",
            "150/150 [==============================] - 0s 1ms/step - loss: 0.0729 - accuracy: 0.9863\n",
            "Epoch 67/100\n",
            "150/150 [==============================] - 0s 1ms/step - loss: 0.0901 - accuracy: 0.9832\n",
            "Epoch 68/100\n",
            "150/150 [==============================] - 0s 1ms/step - loss: 0.0785 - accuracy: 0.9761\n",
            "Epoch 69/100\n",
            "150/150 [==============================] - 0s 1ms/step - loss: 0.1053 - accuracy: 0.9698\n",
            "Epoch 70/100\n",
            "150/150 [==============================] - 0s 1ms/step - loss: 0.0715 - accuracy: 0.9866\n",
            "Epoch 71/100\n",
            "150/150 [==============================] - 0s 1ms/step - loss: 0.0972 - accuracy: 0.9681\n",
            "Epoch 72/100\n",
            "150/150 [==============================] - 0s 973us/step - loss: 0.1012 - accuracy: 0.9718\n",
            "Epoch 73/100\n",
            "150/150 [==============================] - 0s 1ms/step - loss: 0.1397 - accuracy: 0.9601\n",
            "Epoch 74/100\n",
            "150/150 [==============================] - 0s 1ms/step - loss: 0.1001 - accuracy: 0.9558\n",
            "Epoch 75/100\n",
            "150/150 [==============================] - 0s 1ms/step - loss: 0.0934 - accuracy: 0.9533\n",
            "Epoch 76/100\n",
            "150/150 [==============================] - 0s 1ms/step - loss: 0.0840 - accuracy: 0.9826\n",
            "Epoch 77/100\n",
            "150/150 [==============================] - 0s 1ms/step - loss: 0.0490 - accuracy: 0.9820\n",
            "Epoch 78/100\n",
            "150/150 [==============================] - 0s 1ms/step - loss: 0.0688 - accuracy: 0.9753\n",
            "Epoch 79/100\n",
            "150/150 [==============================] - 0s 1ms/step - loss: 0.0532 - accuracy: 0.9862\n",
            "Epoch 80/100\n",
            "150/150 [==============================] - 0s 1ms/step - loss: 0.0746 - accuracy: 0.9607\n",
            "Epoch 81/100\n",
            "150/150 [==============================] - 0s 1ms/step - loss: 0.0686 - accuracy: 0.9684\n",
            "Epoch 82/100\n",
            "150/150 [==============================] - 0s 1ms/step - loss: 0.0634 - accuracy: 0.9784\n",
            "Epoch 83/100\n",
            "150/150 [==============================] - 0s 1ms/step - loss: 0.0935 - accuracy: 0.9668\n",
            "Epoch 84/100\n",
            "150/150 [==============================] - 0s 1ms/step - loss: 0.0619 - accuracy: 0.9927\n",
            "Epoch 85/100\n",
            "150/150 [==============================] - 0s 1ms/step - loss: 0.0698 - accuracy: 0.9934\n",
            "Epoch 86/100\n",
            "150/150 [==============================] - 0s 1ms/step - loss: 0.0911 - accuracy: 0.9589\n",
            "Epoch 87/100\n",
            "150/150 [==============================] - 0s 1ms/step - loss: 0.0644 - accuracy: 0.9790\n",
            "Epoch 88/100\n",
            "150/150 [==============================] - 0s 1ms/step - loss: 0.0753 - accuracy: 0.9715\n",
            "Epoch 89/100\n",
            "150/150 [==============================] - 0s 1ms/step - loss: 0.0942 - accuracy: 0.9577\n",
            "Epoch 90/100\n",
            "150/150 [==============================] - 0s 1ms/step - loss: 0.0661 - accuracy: 0.9820\n",
            "Epoch 91/100\n",
            "150/150 [==============================] - 0s 1ms/step - loss: 0.0618 - accuracy: 0.9769\n",
            "Epoch 92/100\n",
            "150/150 [==============================] - 0s 1ms/step - loss: 0.0858 - accuracy: 0.9552\n",
            "Epoch 93/100\n",
            "150/150 [==============================] - 0s 1ms/step - loss: 0.0904 - accuracy: 0.9605\n",
            "Epoch 94/100\n",
            "150/150 [==============================] - 0s 1ms/step - loss: 0.1216 - accuracy: 0.9417\n",
            "Epoch 95/100\n",
            "150/150 [==============================] - 0s 1ms/step - loss: 0.0852 - accuracy: 0.9470\n",
            "Epoch 96/100\n",
            "150/150 [==============================] - 0s 1ms/step - loss: 0.0788 - accuracy: 0.9620\n",
            "Epoch 97/100\n",
            "150/150 [==============================] - 0s 1ms/step - loss: 0.0570 - accuracy: 0.9778\n",
            "Epoch 98/100\n",
            "150/150 [==============================] - 0s 1ms/step - loss: 0.0718 - accuracy: 0.9610\n",
            "Epoch 99/100\n",
            "150/150 [==============================] - 0s 1ms/step - loss: 0.0635 - accuracy: 0.9779\n",
            "Epoch 100/100\n",
            "150/150 [==============================] - 0s 1ms/step - loss: 0.0684 - accuracy: 0.9732\n"
          ],
          "name": "stdout"
        },
        {
          "output_type": "execute_result",
          "data": {
            "text/plain": [
              "<keras.callbacks.History at 0x7f9ecdbdebd0>"
            ]
          },
          "metadata": {
            "tags": []
          },
          "execution_count": 23
        }
      ]
    },
    {
      "cell_type": "markdown",
      "metadata": {
        "id": "FrXa8j2T4okS"
      },
      "source": [
        "모델 예측하기"
      ]
    },
    {
      "cell_type": "code",
      "metadata": {
        "colab": {
          "base_uri": "https://localhost:8080/"
        },
        "id": "7lm2hh2k4GX0",
        "outputId": "d7fbf21b-cad0-46f8-f7dc-6ac4ead9f7dc"
      },
      "source": [
        "model.predict(np.array([[4.7, 3.2, 1.3, 0.2]]))"
      ],
      "execution_count": 25,
      "outputs": [
        {
          "output_type": "execute_result",
          "data": {
            "text/plain": [
              "array([[9.9976724e-01, 2.3271189e-04, 2.6194856e-12]], dtype=float32)"
            ]
          },
          "metadata": {
            "tags": []
          },
          "execution_count": 25
        }
      ]
    },
    {
      "cell_type": "code",
      "metadata": {
        "id": "0EUngLcC4ZGA"
      },
      "source": [
        ""
      ],
      "execution_count": null,
      "outputs": []
    }
  ]
}